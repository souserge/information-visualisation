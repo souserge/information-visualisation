{
 "cells": [
  {
   "cell_type": "markdown",
   "metadata": {},
   "source": [
    "# Assignment 3\n",
    "## Author: Serhii Korzh (802172)"
   ]
  },
  {
   "cell_type": "code",
   "execution_count": 26,
   "metadata": {},
   "outputs": [],
   "source": [
    "import altair as alt\n",
    "import numpy as np\n",
    "import pandas as pd\n",
    "import matplotlib.pyplot as plt\n",
    "import ipympl\n",
    "from sklearn.decomposition import PCA\n",
    "from sklearn.manifold import MDS, locally_linear_embedding\n",
    "%matplotlib widget\n"
   ]
  },
  {
   "cell_type": "markdown",
   "metadata": {},
   "source": [
    "## Exercise 1"
   ]
  },
  {
   "cell_type": "code",
   "execution_count": 27,
   "metadata": {},
   "outputs": [],
   "source": [
    "knotty_data = pd.read_csv('data/knotty_data.csv')"
   ]
  },
  {
   "cell_type": "code",
   "execution_count": 35,
   "metadata": {},
   "outputs": [
    {
     "data": {
      "application/vnd.jupyter.widget-view+json": {
       "model_id": "be1a0e216867474fa893f0bb03427c68",
       "version_major": 2,
       "version_minor": 0
      },
      "text/plain": [
       "Canvas(toolbar=Toolbar(toolitems=[('Home', 'Reset original view', 'home', 'home'), ('Back', 'Back to previous …"
      ]
     },
     "metadata": {},
     "output_type": "display_data"
    }
   ],
   "source": [
    "fig = plt.figure(figsize=(9, 8))\n",
    "ax = fig.add_subplot(111, projection='3d')\n",
    "\n",
    "ts = knotty_data['t']\n",
    "xs = knotty_data['x']\n",
    "ys = knotty_data['y']\n",
    "zs = knotty_data['z']\n",
    "ax.scatter(xs, ys, zs, s=50, c=ts, alpha=0.8, edgecolors='w', cmap='cividis')\n",
    "plt.show()"
   ]
  },
  {
   "cell_type": "code",
   "execution_count": 58,
   "metadata": {},
   "outputs": [],
   "source": [
    "data_np = knotty_data[['x', 'y', 'z']].to_numpy()\n",
    "data_np = (data_np - np.mean(data_np, axis=0)) # /np.std(data_np, axis=0)\n",
    "pca = PCA(1)\n",
    "fitted = pca.fit(data_np)\n",
    "projected = pca.transform(data_np)[:,0]"
   ]
  },
  {
   "cell_type": "code",
   "execution_count": 59,
   "metadata": {},
   "outputs": [
    {
     "name": "stderr",
     "output_type": "stream",
     "text": [
      "/Users/serge/.local/share/virtualenvs/information-visualisation-3EQAH54i/lib/python3.7/site-packages/ipykernel_launcher.py:1: RuntimeWarning: More than 20 figures have been opened. Figures created through the pyplot interface (`matplotlib.pyplot.figure`) are retained until explicitly closed and may consume too much memory. (To control this warning, see the rcParam `figure.max_open_warning`).\n",
      "  \"\"\"Entry point for launching an IPython kernel.\n"
     ]
    },
    {
     "data": {
      "application/vnd.jupyter.widget-view+json": {
       "model_id": "6a3d3e7619ff4222979cbd8a7a86d77e",
       "version_major": 2,
       "version_minor": 0
      },
      "text/plain": [
       "Canvas(toolbar=Toolbar(toolitems=[('Home', 'Reset original view', 'home', 'home'), ('Back', 'Back to previous …"
      ]
     },
     "metadata": {},
     "output_type": "display_data"
    }
   ],
   "source": [
    "fig = plt.figure(figsize=(9, 8))\n",
    "ax = fig.add_subplot(111, projection='3d')\n",
    "\n",
    "ax.scatter(data_np[:, 0], data_np[:,1], data_np[:,2], s=50, alpha=0.8, c=ts, cmap='cividis', edgecolors='w')\n",
    "ax.set_xlabel('x')\n",
    "ax.set_ylabel('y')\n",
    "ax.set_zlabel('z')\n",
    "plt.show()"
   ]
  },
  {
   "cell_type": "code",
   "execution_count": 33,
   "metadata": {},
   "outputs": [
    {
     "data": {
      "application/vnd.jupyter.widget-view+json": {
       "model_id": "1bdc82710ef04a118cd19c0706a8c291",
       "version_major": 2,
       "version_minor": 0
      },
      "text/plain": [
       "Canvas(toolbar=Toolbar(toolitems=[('Home', 'Reset original view', 'home', 'home'), ('Back', 'Back to previous …"
      ]
     },
     "metadata": {},
     "output_type": "display_data"
    }
   ],
   "source": [
    "fig = plt.figure(figsize=(9, 4))\n",
    "ax = fig.add_subplot(111)\n",
    "ax.scatter(projected, np.zeros_like(projected), s=50, marker='|', alpha=0.6, c=ts, cmap='cividis')\n",
    "ax.get_yaxis().set_visible(False)\n",
    "ax.set_xlabel('PC1')\n",
    "plt.show()"
   ]
  },
  {
   "cell_type": "code",
   "execution_count": 31,
   "metadata": {},
   "outputs": [
    {
     "data": {
      "application/vnd.jupyter.widget-view+json": {
       "model_id": "0ca385eb80c64617a8955262e8997286",
       "version_major": 2,
       "version_minor": 0
      },
      "text/plain": [
       "Canvas(toolbar=Toolbar(toolitems=[('Home', 'Reset original view', 'home', 'home'), ('Back', 'Back to previous …"
      ]
     },
     "metadata": {},
     "output_type": "display_data"
    }
   ],
   "source": [
    "fig = plt.figure(figsize=(9, 4))\n",
    "ax = fig.add_subplot(111)\n",
    "ax.hist(projected, density=True, color='purple', bins=40)\n",
    "ax.set_xlabel('PC1')\n",
    "ax.set_ylabel('Density')\n",
    "plt.show()"
   ]
  },
  {
   "cell_type": "code",
   "execution_count": null,
   "metadata": {},
   "outputs": [],
   "source": [
    "mds = MDS(1, metric=False)\n",
    "oned_mds = mds.fit_transform(data_np)"
   ]
  },
  {
   "cell_type": "code",
   "execution_count": 32,
   "metadata": {},
   "outputs": [
    {
     "data": {
      "application/vnd.jupyter.widget-view+json": {
       "model_id": "8cee5e41c71243a5aa291f6deaeef8c9",
       "version_major": 2,
       "version_minor": 0
      },
      "text/plain": [
       "Canvas(toolbar=Toolbar(toolitems=[('Home', 'Reset original view', 'home', 'home'), ('Back', 'Back to previous …"
      ]
     },
     "metadata": {},
     "output_type": "display_data"
    }
   ],
   "source": [
    "fig = plt.figure(figsize=(9, 4))\n",
    "ax = fig.add_subplot(111)\n",
    "ax.scatter(oned_mds, np.zeros_like(oned_mds), s=50, marker='|', alpha=0.6, c=ts, cmap='cividis')\n",
    "ax.get_yaxis().set_visible(False)\n",
    "ax.set_xlabel('non-metric MDS embedding')\n",
    "plt.show()"
   ]
  },
  {
   "cell_type": "code",
   "execution_count": 10,
   "metadata": {},
   "outputs": [
    {
     "data": {
      "application/vnd.jupyter.widget-view+json": {
       "model_id": "36a32811f31645349ee8967926f03c7e",
       "version_major": 2,
       "version_minor": 0
      },
      "text/plain": [
       "Canvas(toolbar=Toolbar(toolitems=[('Home', 'Reset original view', 'home', 'home'), ('Back', 'Back to previous …"
      ]
     },
     "metadata": {},
     "output_type": "display_data"
    }
   ],
   "source": [
    "fig = plt.figure(figsize=(9, 4))\n",
    "ax = fig.add_subplot(111)\n",
    "ax.hist(oned_mds, density=True, bins=30, color='purple')\n",
    "ax.set_xlabel('non-metric MDS embedding')\n",
    "ax.set_ylabel('Density')\n",
    "plt.show()"
   ]
  },
  {
   "cell_type": "code",
   "execution_count": 11,
   "metadata": {},
   "outputs": [],
   "source": [
    "lle = locally_linear_embedding(data_np, 20, 1)[0][:,0]"
   ]
  },
  {
   "cell_type": "code",
   "execution_count": 36,
   "metadata": {},
   "outputs": [
    {
     "data": {
      "application/vnd.jupyter.widget-view+json": {
       "model_id": "20897d0d0fcc4ac1ad29d01c79baddd7",
       "version_major": 2,
       "version_minor": 0
      },
      "text/plain": [
       "Canvas(toolbar=Toolbar(toolitems=[('Home', 'Reset original view', 'home', 'home'), ('Back', 'Back to previous …"
      ]
     },
     "metadata": {},
     "output_type": "display_data"
    }
   ],
   "source": [
    "fig = plt.figure(figsize=(9, 4))\n",
    "ax = fig.add_subplot(111)\n",
    "ax.scatter(lle, np.zeros_like(lle), s=50, marker='|', alpha=0.6, c=ts, cmap='cividis')\n",
    "ax.get_yaxis().set_visible(False)\n",
    "ax.set_xlabel('LLE')\n",
    "plt.show()"
   ]
  },
  {
   "cell_type": "code",
   "execution_count": 13,
   "metadata": {},
   "outputs": [
    {
     "data": {
      "application/vnd.jupyter.widget-view+json": {
       "model_id": "afc89ad46a2b494b99980e6eff0fd0f6",
       "version_major": 2,
       "version_minor": 0
      },
      "text/plain": [
       "Canvas(toolbar=Toolbar(toolitems=[('Home', 'Reset original view', 'home', 'home'), ('Back', 'Back to previous …"
      ]
     },
     "metadata": {},
     "output_type": "display_data"
    }
   ],
   "source": [
    "fig = plt.figure(figsize=(9, 4))\n",
    "ax = fig.add_subplot(111)\n",
    "ax.hist(lle, density=True, bins=30, color='purple')\n",
    "ax.set_xlabel('LLE')\n",
    "ax.set_ylabel('Density')\n",
    "plt.show()"
   ]
  },
  {
   "cell_type": "code",
   "execution_count": 14,
   "metadata": {},
   "outputs": [],
   "source": [
    "pop_data = pd.read_csv('data/population_data.csv')"
   ]
  },
  {
   "cell_type": "code",
   "execution_count": 15,
   "metadata": {},
   "outputs": [],
   "source": [
    "selected_regions = [\n",
    "    'WHOLE COUNTRY',\n",
    "    'Helsinki',\n",
    "    'Espoo',\n",
    "    'Vantaa',\n",
    "    'MK01 Uusimaa',\n",
    "    'MK21 aland',\n",
    "    'Porvoo',\n",
    "    'Kotka',\n",
    "    'Vaasa',\n",
    "    'Oulu',\n",
    "    'Rovaniemi',\n",
    "    'Utsjoki',\n",
    "    'Nokia',\n",
    "    'Lahti',\n",
    "    'Mariehamn',\n",
    "    'Tampere',\n",
    "    'Turku',\n",
    "    'Pori',\n",
    "    'Kuopio',\n",
    "    'Kuusamo',\n",
    "    'Inari',\n",
    "    'Sirkka',\n",
    "    'Kemi',\n",
    "    'Taivalkoski',\n",
    "    'Joensuu',\n",
    "    'Lappeenranta',\n",
    "    'Kouvola',\n",
    "    'Jyväskylä'\n",
    "]\n",
    "\n",
    "pop_data_selected = pop_data[pop_data['Area'].isin(selected_regions)]"
   ]
  },
  {
   "cell_type": "code",
   "execution_count": 16,
   "metadata": {},
   "outputs": [],
   "source": [
    "ages = pop_data[pop_data.columns[1:]].to_numpy()"
   ]
  },
  {
   "cell_type": "code",
   "execution_count": 17,
   "metadata": {},
   "outputs": [],
   "source": [
    "import matplotlib.pyplot as plt\n",
    "import matplotlib.lines as mlines\n",
    "\n",
    "def newline(p1, p2):\n",
    "    ax = plt.gca()\n",
    "    xmin, xmax = ax.get_xbound()\n",
    "\n",
    "    if(p2[0] == p1[0]):\n",
    "        xmin = xmax = p1[0]\n",
    "        ymin, ymax = ax.get_ybound()\n",
    "    else:\n",
    "        ymax = p1[1]+(p2[1]-p1[1])/(p2[0]-p1[0])*(xmax-p1[0])\n",
    "        ymin = p1[1]+(p2[1]-p1[1])/(p2[0]-p1[0])*(xmin-p1[0])\n",
    "\n",
    "    l = mlines.Line2D([xmin,xmax], [ymin,ymax])\n",
    "    ax.add_line(l)\n",
    "    return l"
   ]
  },
  {
   "cell_type": "code",
   "execution_count": 60,
   "metadata": {},
   "outputs": [],
   "source": [
    "mds = MDS(2)\n",
    "projected_mds = mds.fit_transform(ages)"
   ]
  },
  {
   "cell_type": "code",
   "execution_count": 61,
   "metadata": {},
   "outputs": [],
   "source": [
    "xs, ys = projected_mds[:,0], projected_mds[:,1]"
   ]
  },
  {
   "cell_type": "code",
   "execution_count": 62,
   "metadata": {},
   "outputs": [
    {
     "name": "stderr",
     "output_type": "stream",
     "text": [
      "/Users/serge/.local/share/virtualenvs/information-visualisation-3EQAH54i/lib/python3.7/site-packages/ipykernel_launcher.py:1: RuntimeWarning: More than 20 figures have been opened. Figures created through the pyplot interface (`matplotlib.pyplot.figure`) are retained until explicitly closed and may consume too much memory. (To control this warning, see the rcParam `figure.max_open_warning`).\n",
      "  \"\"\"Entry point for launching an IPython kernel.\n"
     ]
    },
    {
     "data": {
      "application/vnd.jupyter.widget-view+json": {
       "model_id": "8411159534364624a830671339f5e13f",
       "version_major": 2,
       "version_minor": 0
      },
      "text/plain": [
       "Canvas(toolbar=Toolbar(toolitems=[('Home', 'Reset original view', 'home', 'home'), ('Back', 'Back to previous …"
      ]
     },
     "metadata": {},
     "output_type": "display_data"
    }
   ],
   "source": [
    "fig = plt.figure(figsize=(11,9))\n",
    "ax = fig.add_subplot(111)\n",
    "ax.scatter(xs, ys, s=10, color='purple')\n",
    "plt.show()\n",
    "\n",
    "selected = pop_data['Area'].isin(selected_regions).to_numpy()\n",
    "\n",
    "for (label, [x, y]) in zip(pop_data[selected]['Area'], projected_mds[selected, :]):\n",
    "    # this method is called for each point\n",
    "    ax.annotate(label, # this is the text\n",
    "                 (x,y), # this is the point to label\n",
    "                 textcoords=\"offset points\", # how to position the text\n",
    "                 xytext=(0, 4), # distance from text to points (x,y)\n",
    "                 ha='center',\n",
    "                 fontsize='x-small')\n",
    "#                  arrowprops=dict(facecolor='grey', arrowstyle='-' ),)  "
   ]
  },
  {
   "cell_type": "code",
   "execution_count": null,
   "metadata": {},
   "outputs": [],
   "source": []
  },
  {
   "cell_type": "code",
   "execution_count": 69,
   "metadata": {},
   "outputs": [],
   "source": [
    "from scipy.spatial import distance_matrix\n",
    "dist_xs = distance_matrix(ages, ages).ravel()\n",
    "dist_ys = distance_matrix(projected_mds, projected_mds).ravel()"
   ]
  },
  {
   "cell_type": "code",
   "execution_count": 52,
   "metadata": {},
   "outputs": [
    {
     "data": {
      "application/vnd.jupyter.widget-view+json": {
       "model_id": "88b1f90d19a54c6da2528db834c16861",
       "version_major": 2,
       "version_minor": 0
      },
      "text/plain": [
       "Canvas(toolbar=Toolbar(toolitems=[('Home', 'Reset original view', 'home', 'home'), ('Back', 'Back to previous …"
      ]
     },
     "metadata": {},
     "output_type": "display_data"
    }
   ],
   "source": [
    "fig = plt.figure(figsize=(8,8))\n",
    "ax = fig.add_subplot(111)\n",
    "ax.plot([0, 0.3], [0, 0.3], color='red')\n",
    "ax.scatter(dist_xs, dist_ys, s=2, color='purple', alpha=0.1)\n",
    "ax.set_xlabel('Original')\n",
    "ax.set_ylabel('Projected')\n",
    "plt.show()"
   ]
  },
  {
   "cell_type": "code",
   "execution_count": 44,
   "metadata": {},
   "outputs": [],
   "source": [
    "def sammon(x, n, display = 2, inputdist = 'raw', maxhalves = 20, maxiter = 500, tolfun = 1e-9, init = 'default'):\n",
    "\n",
    "    import numpy as np \n",
    "    from scipy.spatial.distance import cdist\n",
    "\n",
    "    \"\"\"Perform Sammon mapping on dataset x\n",
    "    y = sammon(x) applies the Sammon nonlinear mapping procedure on\n",
    "    multivariate data x, where each row represents a pattern and each column\n",
    "    represents a feature.  On completion, y contains the corresponding\n",
    "    co-ordinates of each point on the map.  By default, a two-dimensional\n",
    "    map is created.  Note if x contains any duplicated rows, SAMMON will\n",
    "    fail (ungracefully). \n",
    "    [y,E] = sammon(x) also returns the value of the cost function in E (i.e.\n",
    "    the stress of the mapping).\n",
    "    An N-dimensional output map is generated by y = sammon(x,n) .\n",
    "    A set of optimisation options can be specified using optional\n",
    "    arguments, y = sammon(x,n,[OPTS]):\n",
    "       maxiter        - maximum number of iterations\n",
    "       tolfun         - relative tolerance on objective function\n",
    "       maxhalves      - maximum number of step halvings\n",
    "       input          - {'raw','distance'} if set to 'distance', X is \n",
    "                        interpreted as a matrix of pairwise distances.\n",
    "       display        - 0 to 2. 0 least verbose, 2 max verbose.\n",
    "       init           - {'pca', 'cmdscale', random', 'default'}\n",
    "                        default is 'pca' if input is 'raw', \n",
    "                        'msdcale' if input is 'distance'\n",
    "    The default options are retrieved by calling sammon(x) with no\n",
    "    parameters.\n",
    "    File        : sammon.py\n",
    "    Date        : 18 April 2014\n",
    "    Authors     : Tom J. Pollard (tom.pollard.11@ucl.ac.uk)\n",
    "                : Ported from MATLAB implementation by \n",
    "                  Gavin C. Cawley and Nicola L. C. Talbot\n",
    "    Description : Simple python implementation of Sammon's non-linear\n",
    "                  mapping algorithm [1].\n",
    "    References  : [1] Sammon, John W. Jr., \"A Nonlinear Mapping for Data\n",
    "                  Structure Analysis\", IEEE Transactions on Computers,\n",
    "                  vol. C-18, no. 5, pp 401-409, May 1969.\n",
    "    Copyright   : (c) Dr Gavin C. Cawley, November 2007.\n",
    "    This program is free software; you can redistribute it and/or modify\n",
    "    it under the terms of the GNU General Public License as published by\n",
    "    the Free Software Foundation; either version 2 of the License, or\n",
    "    (at your option) any later version.\n",
    "    This program is distributed in the hope that it will be useful,\n",
    "    but WITHOUT ANY WARRANTY; without even the implied warranty of\n",
    "    MERCHANTABILITY or FITNESS FOR A PARTICULAR PURPOSE.  See the\n",
    "    GNU General Public License for more details.\n",
    "    You should have received a copy of the GNU General Public License\n",
    "    along with this program; if not, write to the Free Software\n",
    "    Foundation, Inc., 59 Temple Place, Suite 330, Boston, MA 02111-1307 USA\n",
    "    \"\"\"\n",
    "\n",
    "    # Create distance matrix unless given by parameters\n",
    "    if inputdist == 'distance':\n",
    "        D = x\n",
    "        if init == 'default':\n",
    "            init = 'cmdscale'\n",
    "    else:\n",
    "        D = cdist(x, x)\n",
    "        if init == 'default':\n",
    "            init = 'pca'\n",
    "\n",
    "    if inputdist == 'distance' and init == 'pca':\n",
    "        raise ValueError(\"Cannot use init == 'pca' when inputdist == 'distance'\")\n",
    "\n",
    "    if np.count_nonzero(np.diagonal(D)) > 0:\n",
    "        raise ValueError(\"The diagonal of the dissimilarity matrix must be zero\")\n",
    "\n",
    "    # Remaining initialisation\n",
    "    N = x.shape[0]\n",
    "    scale = 0.5 / D.sum()\n",
    "    D = D + np.eye(N)     \n",
    "\n",
    "    if np.count_nonzero(D<=0) > 0:\n",
    "        raise ValueError(\"Off-diagonal dissimilarities must be strictly positive\")   \n",
    "\n",
    "    Dinv = 1 / D\n",
    "    if init == 'pca':\n",
    "        [UU,DD,_] = np.linalg.svd(x)\n",
    "        y = UU[:,:n]*DD[:n] \n",
    "    elif init == 'cmdscale':\n",
    "        from cmdscale import cmdscale\n",
    "        y,e = cmdscale(D)\n",
    "        y = y[:,:n]\n",
    "    else:\n",
    "        y = np.random.normal(0.0,1.0,[N,n])\n",
    "    one = np.ones([N,n])\n",
    "    d = cdist(y,y) + np.eye(N)\n",
    "    dinv = 1. / d\n",
    "    delta = D-d \n",
    "    E = ((delta**2)*Dinv).sum() \n",
    "\n",
    "    # Get on with it\n",
    "    for i in range(maxiter):\n",
    "\n",
    "        # Compute gradient, Hessian and search direction (note it is actually\n",
    "        # 1/4 of the gradient and Hessian, but the step size is just the ratio\n",
    "        # of the gradient and the diagonal of the Hessian so it doesn't\n",
    "        # matter).\n",
    "        delta = dinv - Dinv\n",
    "        deltaone = np.dot(delta,one)\n",
    "        g = np.dot(delta,y) - (y * deltaone)\n",
    "        dinv3 = dinv ** 3\n",
    "        y2 = y ** 2\n",
    "        H = np.dot(dinv3,y2) - deltaone - np.dot(2,y) * np.dot(dinv3,y) + y2 * np.dot(dinv3,one)\n",
    "        s = -g.flatten(order='F') / np.abs(H.flatten(order='F'))\n",
    "        y_old    = y\n",
    "\n",
    "        # Use step-halving procedure to ensure progress is made\n",
    "        for j in range(maxhalves):\n",
    "            s_reshape = np.reshape(s, (-1,n),order='F')\n",
    "            y = y_old + s_reshape\n",
    "            d = cdist(y, y) + np.eye(N)\n",
    "            dinv = 1 / d\n",
    "            delta = D - d\n",
    "            E_new = ((delta**2)*Dinv).sum()\n",
    "            if E_new < E:\n",
    "                break\n",
    "            else:\n",
    "                s = 0.5*s\n",
    "\n",
    "        # Bomb out if too many halving steps are required\n",
    "        if j == maxhalves-1:\n",
    "            print('Warning: maxhalves exceeded. Sammon mapping may not converge...')\n",
    "\n",
    "        # Evaluate termination criterion\n",
    "        if abs((E - E_new) / E) < tolfun:\n",
    "            if display:\n",
    "                print('TolFun exceeded: Optimisation terminated')\n",
    "            break\n",
    "\n",
    "        # Report progress\n",
    "        E = E_new\n",
    "        if display > 1:\n",
    "            print('epoch = %d : E = %12.10f'% (i+1, E * scale))\n",
    "\n",
    "    if i == maxiter-1:\n",
    "        print('Warning: maxiter exceeded. Sammon mapping may not have converged...')\n",
    "\n",
    "    # Fiddle stress to match the original Sammon paper\n",
    "    E = E * scale\n",
    "    \n",
    "    return [y,E]"
   ]
  },
  {
   "cell_type": "code",
   "execution_count": 71,
   "metadata": {},
   "outputs": [
    {
     "name": "stdout",
     "output_type": "stream",
     "text": [
      "epoch = 1 : E = 0.0603593383\n",
      "epoch = 2 : E = 0.0500592043\n",
      "epoch = 3 : E = 0.0497084606\n",
      "epoch = 4 : E = 0.0453581542\n",
      "epoch = 5 : E = 0.0451116533\n",
      "epoch = 6 : E = 0.0429342660\n",
      "epoch = 7 : E = 0.0429273763\n",
      "epoch = 8 : E = 0.0372497177\n",
      "epoch = 9 : E = 0.0372143377\n",
      "epoch = 10 : E = 0.0371007623\n",
      "epoch = 11 : E = 0.0334986445\n",
      "epoch = 12 : E = 0.0327712108\n",
      "epoch = 13 : E = 0.0320876859\n",
      "epoch = 14 : E = 0.0320577834\n",
      "epoch = 15 : E = 0.0314376637\n",
      "epoch = 16 : E = 0.0299068515\n",
      "epoch = 17 : E = 0.0241545185\n",
      "epoch = 18 : E = 0.0199607105\n",
      "epoch = 19 : E = 0.0170527132\n",
      "epoch = 20 : E = 0.0162793743\n",
      "epoch = 21 : E = 0.0159044109\n",
      "epoch = 22 : E = 0.0146396994\n",
      "epoch = 23 : E = 0.0140002416\n",
      "epoch = 24 : E = 0.0139222120\n",
      "epoch = 25 : E = 0.0135344082\n",
      "epoch = 26 : E = 0.0134356134\n",
      "epoch = 27 : E = 0.0133829156\n",
      "epoch = 28 : E = 0.0133500075\n",
      "epoch = 29 : E = 0.0133155847\n",
      "epoch = 30 : E = 0.0132928932\n",
      "epoch = 31 : E = 0.0132886567\n",
      "epoch = 32 : E = 0.0132698659\n",
      "epoch = 33 : E = 0.0132624992\n",
      "epoch = 34 : E = 0.0132537582\n",
      "epoch = 35 : E = 0.0132501111\n",
      "epoch = 36 : E = 0.0132489275\n",
      "epoch = 37 : E = 0.0132446871\n",
      "epoch = 38 : E = 0.0132438119\n",
      "epoch = 39 : E = 0.0132415492\n",
      "epoch = 40 : E = 0.0132403704\n",
      "epoch = 41 : E = 0.0132393440\n",
      "epoch = 42 : E = 0.0132386289\n",
      "epoch = 43 : E = 0.0132385926\n",
      "epoch = 44 : E = 0.0132377429\n",
      "epoch = 45 : E = 0.0132369425\n",
      "epoch = 46 : E = 0.0132363762\n",
      "epoch = 47 : E = 0.0132355265\n",
      "epoch = 48 : E = 0.0132332103\n",
      "epoch = 49 : E = 0.0132302829\n",
      "epoch = 50 : E = 0.0132279527\n",
      "epoch = 51 : E = 0.0132252186\n",
      "epoch = 52 : E = 0.0132228353\n",
      "epoch = 53 : E = 0.0132215338\n",
      "epoch = 54 : E = 0.0132051464\n",
      "epoch = 55 : E = 0.0132000904\n",
      "epoch = 56 : E = 0.0131998296\n",
      "epoch = 57 : E = 0.0131958650\n",
      "epoch = 58 : E = 0.0131957747\n",
      "epoch = 59 : E = 0.0131951543\n",
      "epoch = 60 : E = 0.0131950346\n",
      "epoch = 61 : E = 0.0131947888\n",
      "epoch = 62 : E = 0.0131947151\n",
      "epoch = 63 : E = 0.0131946006\n",
      "epoch = 64 : E = 0.0131945628\n",
      "epoch = 65 : E = 0.0131945023\n",
      "epoch = 66 : E = 0.0131944774\n",
      "epoch = 67 : E = 0.0131944370\n",
      "epoch = 68 : E = 0.0131944104\n",
      "epoch = 69 : E = 0.0131943741\n",
      "epoch = 70 : E = 0.0131943560\n",
      "epoch = 71 : E = 0.0131943514\n",
      "epoch = 72 : E = 0.0131942206\n",
      "epoch = 73 : E = 0.0131941629\n",
      "epoch = 74 : E = 0.0131941597\n",
      "epoch = 75 : E = 0.0131940939\n",
      "epoch = 76 : E = 0.0131940926\n",
      "epoch = 77 : E = 0.0131940691\n",
      "epoch = 78 : E = 0.0131940678\n",
      "epoch = 79 : E = 0.0131940586\n",
      "epoch = 80 : E = 0.0131940569\n",
      "epoch = 81 : E = 0.0131940530\n",
      "epoch = 82 : E = 0.0131940513\n",
      "epoch = 83 : E = 0.0131940494\n",
      "epoch = 84 : E = 0.0131940480\n",
      "epoch = 85 : E = 0.0131940475\n",
      "epoch = 86 : E = 0.0131940459\n",
      "epoch = 87 : E = 0.0131940453\n",
      "epoch = 88 : E = 0.0131940445\n",
      "epoch = 89 : E = 0.0131940439\n",
      "epoch = 90 : E = 0.0131940436\n",
      "epoch = 91 : E = 0.0131940429\n",
      "epoch = 92 : E = 0.0131940426\n",
      "epoch = 93 : E = 0.0131940423\n",
      "epoch = 94 : E = 0.0131940420\n",
      "epoch = 95 : E = 0.0131940419\n",
      "epoch = 96 : E = 0.0131940416\n",
      "epoch = 97 : E = 0.0131940414\n",
      "epoch = 98 : E = 0.0131940414\n",
      "epoch = 99 : E = 0.0131940411\n",
      "epoch = 100 : E = 0.0131940411\n",
      "epoch = 101 : E = 0.0131940409\n",
      "epoch = 102 : E = 0.0131940409\n",
      "epoch = 103 : E = 0.0131940408\n",
      "epoch = 104 : E = 0.0131940407\n",
      "epoch = 105 : E = 0.0131940407\n",
      "epoch = 106 : E = 0.0131940406\n",
      "epoch = 107 : E = 0.0131940406\n",
      "epoch = 108 : E = 0.0131940406\n",
      "epoch = 109 : E = 0.0131940405\n",
      "epoch = 110 : E = 0.0131940405\n",
      "epoch = 111 : E = 0.0131940405\n",
      "epoch = 112 : E = 0.0131940405\n",
      "epoch = 113 : E = 0.0131940404\n",
      "epoch = 114 : E = 0.0131940404\n",
      "epoch = 115 : E = 0.0131940404\n",
      "epoch = 116 : E = 0.0131940404\n",
      "epoch = 117 : E = 0.0131940404\n",
      "epoch = 118 : E = 0.0131940404\n",
      "epoch = 119 : E = 0.0131940404\n",
      "epoch = 120 : E = 0.0131940404\n",
      "epoch = 121 : E = 0.0131940404\n",
      "epoch = 122 : E = 0.0131940404\n",
      "epoch = 123 : E = 0.0131940404\n",
      "epoch = 124 : E = 0.0131940403\n",
      "epoch = 125 : E = 0.0131940403\n",
      "epoch = 126 : E = 0.0131940403\n",
      "epoch = 127 : E = 0.0131940403\n",
      "epoch = 128 : E = 0.0131940403\n",
      "TolFun exceeded: Optimisation terminated\n"
     ]
    }
   ],
   "source": [
    "projected_sam, sam_stress = sammon(ages, 2, maxhalves = 50, maxiter = 1000, tolfun = 1e-10)"
   ]
  },
  {
   "cell_type": "code",
   "execution_count": 72,
   "metadata": {},
   "outputs": [
    {
     "name": "stderr",
     "output_type": "stream",
     "text": [
      "/Users/serge/.local/share/virtualenvs/information-visualisation-3EQAH54i/lib/python3.7/site-packages/ipykernel_launcher.py:1: RuntimeWarning: More than 20 figures have been opened. Figures created through the pyplot interface (`matplotlib.pyplot.figure`) are retained until explicitly closed and may consume too much memory. (To control this warning, see the rcParam `figure.max_open_warning`).\n",
      "  \"\"\"Entry point for launching an IPython kernel.\n"
     ]
    },
    {
     "data": {
      "application/vnd.jupyter.widget-view+json": {
       "model_id": "c6e495adcd1949f986843e9db8069f27",
       "version_major": 2,
       "version_minor": 0
      },
      "text/plain": [
       "Canvas(toolbar=Toolbar(toolitems=[('Home', 'Reset original view', 'home', 'home'), ('Back', 'Back to previous …"
      ]
     },
     "metadata": {},
     "output_type": "display_data"
    }
   ],
   "source": [
    "fig = plt.figure(figsize=(11,9))\n",
    "ax = fig.add_subplot(111)\n",
    "xs, ys = projected_sam[:,0], projected_sam[:,1]\n",
    "ax.scatter(xs, ys, s=10, color='purple')\n",
    "plt.show()\n",
    "\n",
    "for (label, [x, y]) in zip(pop_data[selected]['Area'], projected_sam[selected, :]):\n",
    "    # this method is called for each point\n",
    "    ax.annotate(label, # this is the text\n",
    "                 (x,y), # this is the point to label\n",
    "                 textcoords=\"offset points\", # how to position the text\n",
    "                 xytext=(0, 4), # distance from text to points (x,y)\n",
    "                 ha='center',\n",
    "                 fontsize='x-small')\n",
    "#                  arrowprops=dict(facecolor='grey', arrowstyle='-' ),)  "
   ]
  },
  {
   "cell_type": "code",
   "execution_count": 73,
   "metadata": {},
   "outputs": [
    {
     "name": "stderr",
     "output_type": "stream",
     "text": [
      "/Users/serge/.local/share/virtualenvs/information-visualisation-3EQAH54i/lib/python3.7/site-packages/ipykernel_launcher.py:3: RuntimeWarning: More than 20 figures have been opened. Figures created through the pyplot interface (`matplotlib.pyplot.figure`) are retained until explicitly closed and may consume too much memory. (To control this warning, see the rcParam `figure.max_open_warning`).\n",
      "  This is separate from the ipykernel package so we can avoid doing imports until\n"
     ]
    },
    {
     "data": {
      "application/vnd.jupyter.widget-view+json": {
       "model_id": "3d90165fa81649719e5723edf1a80a39",
       "version_major": 2,
       "version_minor": 0
      },
      "text/plain": [
       "Canvas(toolbar=Toolbar(toolitems=[('Home', 'Reset original view', 'home', 'home'), ('Back', 'Back to previous …"
      ]
     },
     "metadata": {},
     "output_type": "display_data"
    }
   ],
   "source": [
    "dist_xs = distance_matrix(ages, ages).ravel()\n",
    "dist_ys = distance_matrix(projected_sam, projected_sam).ravel()\n",
    "fig = plt.figure(figsize=(8,8))\n",
    "ax = fig.add_subplot(111)\n",
    "ax.plot([0, 0.3], [0, 0.3], color='red')\n",
    "ax.scatter(dist_xs, dist_ys, s=2, color='purple', alpha=0.1)\n",
    "ax.set_xlabel('Original')\n",
    "ax.set_ylabel('Projected')\n",
    "plt.show()"
   ]
  },
  {
   "cell_type": "code",
   "execution_count": 74,
   "metadata": {},
   "outputs": [
    {
     "data": {
      "text/plain": [
       "0.006847301058312369"
      ]
     },
     "execution_count": 74,
     "metadata": {},
     "output_type": "execute_result"
    }
   ],
   "source": [
    "np.mean(np.sqrt((dist_xs-dist_ys)**2))"
   ]
  },
  {
   "cell_type": "code",
   "execution_count": 70,
   "metadata": {},
   "outputs": [
    {
     "data": {
      "text/plain": [
       "0.006831487828381986"
      ]
     },
     "execution_count": 70,
     "metadata": {},
     "output_type": "execute_result"
    }
   ],
   "source": [
    "np.mean(np.sqrt((dist_xs-dist_ys)**2))"
   ]
  },
  {
   "cell_type": "code",
   "execution_count": null,
   "metadata": {},
   "outputs": [],
   "source": []
  }
 ],
 "metadata": {
  "kernelspec": {
   "display_name": "Python 3",
   "language": "python",
   "name": "python3"
  },
  "language_info": {
   "codemirror_mode": {
    "name": "ipython",
    "version": 3
   },
   "file_extension": ".py",
   "mimetype": "text/x-python",
   "name": "python",
   "nbconvert_exporter": "python",
   "pygments_lexer": "ipython3",
   "version": "3.7.4"
  }
 },
 "nbformat": 4,
 "nbformat_minor": 4
}
