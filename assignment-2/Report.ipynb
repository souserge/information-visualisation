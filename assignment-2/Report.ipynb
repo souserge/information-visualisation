{
 "cells": [
  {
   "cell_type": "markdown",
   "metadata": {},
   "source": [
    "# Assignment 2\n",
    "## Author: Serhii Korzh (802172)\n",
    "\n",
    "## Exercise 1\n",
    "yes\n",
    "\n",
    "## Exercise 2\n",
    "\n",
    "Take a look at theHelsinki Region Infoshare database at http://www.hri.fi/en/.  From there, download one of the open data sets and visualize some interesting phenomena in the data.  Write a short (2–3 pages)report that describes your approach, obtained results, and the methods you used.  Explore at least threeof the topics discussed in the course (see below) and explain in your report how you have used them.The purpose is not to do an analysis that covers the data from all possible angles.  Focus on one or twoaspects and make a clear visualisation of them.  Try to relate your work to the topics discussed in thecourse, i.e., Tufte’s principles, pre-attentive features, Gestalt laws, etc., when preparing the visualisations.Also, make sure your images convey at least some of their information when printed on a black and whitelaser printer.The use of available visualisation tools (e.g., R, Matlab, Illustrator, (Open)Office, etc.)  is encouraged.\n",
    "However, implementing your own scripts and small programs for processing the data will be necessary."
   ]
  },
  {
   "cell_type": "code",
   "execution_count": null,
   "metadata": {},
   "outputs": [],
   "source": [
    "# imports\n",
    "import altair as alt\n",
    "import numpy as np\n",
    "import pandas as pd\n",
    "# from altair import expr, datum\n",
    "# import matplotlib.pyplot as plt\n",
    "# import seaborn as sns\n",
    "# %matplotlib inline\n",
    "\n",
    "alt.renderers.enable('altair_saver', fmts=[\"html\", \"svg\"]);"
   ]
  },
  {
   "cell_type": "markdown",
   "metadata": {},
   "source": [
    "![ex2-all.png](./ex2-all.png)"
   ]
  },
  {
   "cell_type": "markdown",
   "metadata": {},
   "source": [
    "## Exercise 3\n",
    "This is a set of 8 Gestalt laws:\n",
    "1.  Law of Proximity\n",
    "2.  Law of Similarity\n",
    "3.  Law of Connectedness\n",
    "4.  Law of Continuity\n",
    "5.  Law of Symmetry\n",
    "6.  Law of Closure\n",
    "7.  Law of Figure and Ground\n",
    "8.  Law of Common Fate\n",
    "\n",
    "Draw or find a picture that has 4 Gestalt laws;  each law suggesting a perception that contradicts the other 3 laws (for example a perception of groupings of objects).  State the laws in the picture and howthey are contradicting each other.\n",
    "\n",
    "## Exercise 4 \n",
    "Digital cameras have a white-balance setting.  Why is this needed?  Why do pictures taken outside usingan indoor setting appear blue, and why do pictures taken indoors using an outdoor setting appear red?\n",
    "\n",
    "The white balance setting  \n",
    "\n",
    "## Exercise 5 \n",
    "Design a glyph that enables the pre-attentive perception of at least 3–4 variables (discrete or continuous).How many variables can you represent with your glyph, and what can you say about how the differentvariables are perceived?"
   ]
  }
 ],
 "metadata": {
  "kernelspec": {
   "display_name": "Python 3",
   "language": "python",
   "name": "python3"
  },
  "language_info": {
   "codemirror_mode": {
    "name": "ipython",
    "version": 3
   },
   "file_extension": ".py",
   "mimetype": "text/x-python",
   "name": "python",
   "nbconvert_exporter": "python",
   "pygments_lexer": "ipython3",
   "version": "3.7.4"
  }
 },
 "nbformat": 4,
 "nbformat_minor": 4
}
