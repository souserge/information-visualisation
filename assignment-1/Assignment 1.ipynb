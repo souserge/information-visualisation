{
 "cells": [
  {
   "cell_type": "markdown",
   "metadata": {},
   "source": [
    "## Author: Serhii Korzh (802172)\n",
    "\n",
    "## Exercise 1\n",
    "\n",
    "<img src=\"attachment:image.png\" alt=\"figure\" width=\"600\"/>\n",
    "\n",
    "**(a)** *Analyse the visualisation in Figure 1, starting from Tufte’s principles. List at least 4 items that contradict these good design principles.*\n",
    "\n",
    "1. **Chartjunk.** The whole left part of the graph is filled with the flag of the USA. While it is definitely a catchy design, the flag does not serve any purpose rather than indicating that this is data concerning the USA.\n",
    "2. **Design variation mixed with data variation.** The graphic shows many different variables on one plot, yet, the scales and units of both the Y and X axes are different for different variables.\n",
    "3. **Unclear and ambigous labelling of data.** Labels are placed too far from the actual data, and, given the number of the shown metrics, it is hard to see which graph depicts which metric. Additionally, the graph points are labelled inconsistently, with some \"bumps\" in the data not labelled at all (e.g. in metrics #2 and #7). Since there are no axes, it is very hard to infer the actual values. Moreover, there is no information on the initial values and dates of the metrics.\n",
    "4. **Suboptimal use of data-ink.** Due to chartjunk and other design decisions (e.g. uninformative label indices instead of actual labels), the data-ink ratio is low. Furthermore, there is a lot of unnecesary data ink (like the thick graph lines).\n",
    "\n",
    "**(b)** Give a suggestion for a better visualisation for the same task, using the data shown in Figure 1, and explain your design choices. For a full mark you should provide an image (e.g. drawing, even by hand) and an argumentation, why the proposal is better than the original.\n",
    "\n",
    "\n",
    "In my opinion, this data is best visualised when split apart, as not all of the metrics can be relateable.\n",
    "\n",
    "For example, this is unemployment rate data visualised on its own:\n",
    "\n",
    "![](img/ex1-unemp.svg)\n",
    "\n",
    "The grid lines and borders can be removed (to maximise data-ink). Labels were added for more clarity, and the Y scale is left for more precise analysis and ensuring the scale begins at 0%. In a similar manner, we can visualise metrics #2 and #3.\n",
    "\n",
    "Metrics #4, #5, and #6 are all indices related to economic output / growth. Thus we can group them for comparison:\n",
    "\n",
    "![](img/ex1-ind.svg)\n",
    "\n",
    "The horisontal grid lines are added to allow for a more precise comparison.\n",
    "\n",
    "The productivity metric (#7) is also to be visualised separately, as it is measured quarterly:\n",
    "\n",
    "![](img/ex1-prod.svg)"
   ]
  },
  {
   "cell_type": "markdown",
   "metadata": {},
   "source": [
    "## Exercise 2\n",
    "\n",
    "I chose the following graphic from\n",
    "https://www.livescience.com/coronavirus-updates-united-states.html\n",
    "<img src=\"img/ex2.jpg\" alt=\"figure\" width=\"600\"/>\n",
    "\n",
    "\n",
    "Live Science is a US-based commercial science news service. The visualisation is from a recent article regarding the SARS-CoV-2 outbreak in the US. I personally believe the visualisation is poorly designed because of the following:\n",
    "1. **The graphic is ambiguous.** There is no information regarding what those colours actually mean. I assume it is showing where there was at least 1 confirmed case of SARS-CoV-2 as of March 11. However, it is not mentioned anywhere (including the supporting article).\n",
    "2. **The map presents little actual information.** Given the assumption I made in the previous point, the whole graphic is basically saying: almost all of the states have at least 1 infected person. It gives no information about the distribution of cases or deaths, so the whole visualisation can be replaced with the previous statement, the number of cases, and the number of deaths."
   ]
  },
  {
   "cell_type": "markdown",
   "metadata": {},
   "source": [
    "## Exercise 3\n",
    "\n",
    "**(a)**\n",
    "For Donald, I would propose the following graphic, showing the apparent decrease in temerature on land over the years:\n",
    "\n",
    "![ex3-a.png](img/ex3-a.png)\n",
    "\n",
    "The \"trick\" used to achieve this effect is to cherry-pick the data, ignoring the vital information lying between the picked data points. A dataset of 1400+ points was simplified into 3 values that seem to play in our favor. \n",
    "\n",
    "**(b)** \n",
    "\n",
    "Fortunately for Bernie, no dirty tricks are needed in order to make a visualisation look convincing for proving his argument. The data does show an increase in temperature, but we can help him visualise what could this mean for our future:\n",
    "\n",
    "![ex3-b](img/ex3-b.png)\n",
    "\n",
    "Here, a yearly averages are calculated (represented by points), and a 2nd-order polynomial was fitted to the data in order to extrapolate the trend into the future. A somewhat loose confidence interval of 80% was added to show that drastic changes might come even faster than we expect.\n",
    "\n",
    "**(c)** \n",
    "\n",
    "The Lie factor of cherry-picking is hard to estimate, as the distortion is not visual, but rather in the design of the data itself. for the Donald visualisation, if we say that the perceived difference between the avg. temperature in 1988 and 2015 is -0.4 °C, while the actual change is +0.6 °C, we can say that the Lie factor is -2/3. The negative sign shows that the graphic makes the trend go in an opposite direction from the actual one.\n",
    "\n",
    "For the visualisation of Bernie, the Lie factor is technically 0. However, there is an underlying assumption that our data non-linearily. If we fit a line to the data, the projected apocalypsis of 1.5 °C is already in 2080, whereas the second-order curve projects it to be around year 2050. If the assumption that a linear fit is the proper was of extrapolating data, we can calculat the ratio of the increase of temperature between 2020 and 2050 of our fit and of a linear fit, and the resulting number 1/0.5 = 2 would be our Lie Factor. However, such assumption cannot be made.\n",
    "\n",
    "**(d)**\n",
    "\n",
    "As for Maija, I have prepared a visualisation of the data, comparing all three locations of the measurements (Globe, Ocean, Land):\n",
    "\n",
    "![](img/ex3-d.svg)\n",
    "\n",
    "I decided to create a bar plot, as it would allow to visualise how a yearly average differs from the mean the data is centered to (I do not actually know which data was used to zero-center the dataset).\n",
    "Following Tufte's principles, the visualisation presents the data reasonably well (without distortions), and the data-ink is maximised (within reason). The grid lines are omitted. Instead, white marks are added to the bars. the plot frame is also removed. the scales are chosen so that not to clutter the graphic. Color is used within reason, namely, to show the direction of deviation from 0, making the general trend of increasing temperature visually clear."
   ]
  },
  {
   "cell_type": "markdown",
   "metadata": {},
   "source": [
    "## Exercise 4\n",
    "Generated by `seaborn.pairplot`\n",
    "![](img/ex4.png)"
   ]
  }
 ],
 "metadata": {
  "kernelspec": {
   "display_name": "Python 3",
   "language": "python",
   "name": "python3"
  },
  "language_info": {
   "codemirror_mode": {
    "name": "ipython",
    "version": 3
   },
   "file_extension": ".py",
   "mimetype": "text/x-python",
   "name": "python",
   "nbconvert_exporter": "python",
   "pygments_lexer": "ipython3",
   "version": "3.7.4"
  }
 },
 "nbformat": 4,
 "nbformat_minor": 4
}
